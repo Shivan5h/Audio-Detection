{
  "cells": [
    {
      "cell_type": "markdown",
      "metadata": {
        "id": "view-in-github",
        "colab_type": "text"
      },
      "source": [
        "<a href=\"https://colab.research.google.com/github/Shivan5h/Audio-Detection/blob/main/LFCC_GMM_ASVspoof_Detection.ipynb\" target=\"_parent\"><img src=\"https://colab.research.google.com/assets/colab-badge.svg\" alt=\"Open In Colab\"/></a>"
      ]
    },
    {
      "cell_type": "markdown",
      "id": "411d4402",
      "metadata": {
        "id": "411d4402"
      },
      "source": [
        "# 🔍 LFCC-GMM Based Audio Deepfake Detection\n",
        "Using the ASVspoof 2019 LA Dataset\n"
      ]
    },
    {
      "cell_type": "code",
      "execution_count": null,
      "id": "db9164cd",
      "metadata": {
        "id": "db9164cd"
      },
      "outputs": [],
      "source": [
        "# 📦 Install Required Libraries\n",
        "!pip install librosa numpy scikit-learn joblib soundfile\n"
      ]
    },
    {
      "cell_type": "code",
      "execution_count": null,
      "id": "8f5ba164",
      "metadata": {
        "id": "8f5ba164"
      },
      "outputs": [],
      "source": [
        "# 📁 Dataset & Paths Setup\n",
        "import os\n",
        "from glob import glob\n",
        "import librosa\n",
        "import numpy as np\n",
        "from sklearn.mixture import GaussianMixture\n",
        "from sklearn.metrics import roc_curve, auc\n",
        "import joblib\n",
        "\n",
        "# Path to ASVspoof 2019 LA dataset\n",
        "bonafide_path = 'path_to/bonafide/'\n",
        "spoofed_path = 'path_to/spoofed/'\n"
      ]
    },
    {
      "cell_type": "code",
      "execution_count": null,
      "id": "c7c76a7a",
      "metadata": {
        "id": "c7c76a7a"
      },
      "outputs": [],
      "source": [
        "# 🔄 LFCC Feature Extraction\n",
        "def extract_lfcc(y, sr, n_mfcc=20):\n",
        "    mfcc = librosa.feature.mfcc(y=y, sr=sr, n_mfcc=n_mfcc)\n",
        "    delta = librosa.feature.delta(mfcc)\n",
        "    delta2 = librosa.feature.delta(mfcc, order=2)\n",
        "    return np.vstack([mfcc, delta, delta2]).T\n",
        "\n",
        "def load_data(path, label):\n",
        "    X, y = [], []\n",
        "    for file in glob(os.path.join(path, '*.flac')):\n",
        "        audio, sr = librosa.load(file, sr=16000)\n",
        "        lfcc = extract_lfcc(audio, sr)\n",
        "        X.append(np.mean(lfcc, axis=0))\n",
        "        y.append(label)\n",
        "    return np.array(X), np.array(y)\n",
        "\n",
        "# Load both bonafide and spoofed data\n",
        "X_bona, y_bona = load_data(bonafide_path, 0)\n",
        "X_spoof, y_spoof = load_data(spoofed_path, 1)\n",
        "X = np.concatenate([X_bona, X_spoof], axis=0)\n",
        "y = np.concatenate([y_bona, y_spoof], axis=0)\n"
      ]
    },
    {
      "cell_type": "code",
      "execution_count": null,
      "id": "a85c70d5",
      "metadata": {
        "id": "a85c70d5"
      },
      "outputs": [],
      "source": [
        "# 🤖 Train GMM Classifier\n",
        "gmm_bonafide = GaussianMixture(n_components=8, covariance_type='diag', max_iter=200)\n",
        "gmm_spoofed = GaussianMixture(n_components=8, covariance_type='diag', max_iter=200)\n",
        "\n",
        "gmm_bonafide.fit(X_bona)\n",
        "gmm_spoofed.fit(X_spoof)\n",
        "\n",
        "# Save models\n",
        "joblib.dump(gmm_bonafide, 'gmm_bonafide.pkl')\n",
        "joblib.dump(gmm_spoofed, 'gmm_spoofed.pkl')\n"
      ]
    },
    {
      "cell_type": "code",
      "execution_count": null,
      "id": "b5bb3f0c",
      "metadata": {
        "id": "b5bb3f0c"
      },
      "outputs": [],
      "source": [
        "# 📊 Evaluate Model\n",
        "scores = []\n",
        "for sample in X:\n",
        "    log_bona = gmm_bonafide.score_samples([sample])[0]\n",
        "    log_spoof = gmm_spoofed.score_samples([sample])[0]\n",
        "    scores.append(log_bona - log_spoof)\n",
        "\n",
        "fpr, tpr, _ = roc_curve(y, scores)\n",
        "eer = fpr[np.nanargmin(np.absolute((1 - tpr) - fpr))]\n",
        "print(f'Equal Error Rate (EER): {eer * 100:.2f}%')"
      ]
    }
  ],
  "metadata": {
    "colab": {
      "provenance": [],
      "include_colab_link": true
    }
  },
  "nbformat": 4,
  "nbformat_minor": 5
}